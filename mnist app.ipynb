{
 "cells": [
  {
   "cell_type": "code",
   "execution_count": 2,
   "metadata": {},
   "outputs": [
    {
     "name": "stdout",
     "output_type": "stream",
     "text": [
      "pygame 2.1.2 (SDL 2.0.18, Python 3.8.3)\n",
      "Hello from the pygame community. https://www.pygame.org/contribute.html\n"
     ]
    }
   ],
   "source": [
    "import numpy as np\n",
    "import pandas as pd\n",
    "import pygame,sys\n",
    "from pygame.locals import *"
   ]
  },
  {
   "cell_type": "code",
   "execution_count": 3,
   "metadata": {},
   "outputs": [],
   "source": [
    "import keras\n",
    "from keras.models import load_model"
   ]
  },
  {
   "cell_type": "code",
   "execution_count": 4,
   "metadata": {},
   "outputs": [],
   "source": [
    "import cv2"
   ]
  },
  {
   "cell_type": "code",
   "execution_count": 5,
   "metadata": {},
   "outputs": [
    {
     "data": {
      "text/plain": [
       "(5, 0)"
      ]
     },
     "execution_count": 5,
     "metadata": {},
     "output_type": "execute_result"
    }
   ],
   "source": [
    "pygame.init()"
   ]
  },
  {
   "cell_type": "code",
   "execution_count": 6,
   "metadata": {},
   "outputs": [],
   "source": [
    "DISPLAYSURFACE = pygame.display.set_mode((640,480))"
   ]
  },
  {
   "cell_type": "code",
   "execution_count": 7,
   "metadata": {},
   "outputs": [],
   "source": [
    "WHITE = (255,255,255)\n",
    "WHITE_INT = DISPLAYSURFACE.map_rgb(WHITE)"
   ]
  },
  {
   "cell_type": "code",
   "execution_count": 8,
   "metadata": {},
   "outputs": [],
   "source": [
    "pygame.display.set_caption(\"MNIST detector\")"
   ]
  },
  {
   "cell_type": "code",
   "execution_count": 9,
   "metadata": {},
   "outputs": [],
   "source": [
    "iswriting = False\n",
    "\n",
    "num_x_cor = []\n",
    "num_y_cor = []\n",
    "img_cnt = 1"
   ]
  },
  {
   "cell_type": "code",
   "execution_count": null,
   "metadata": {},
   "outputs": [],
   "source": [
    "BOUNDARYINC = 5\n",
    "WINDOWSIZEX = 640\n",
    "WINDOWSIZEY = 480\n",
    "IMAGESAVE = False\n",
    "PREDICT = True\n",
    "BLACK =(0,0,0)\n",
    "MODEL = load_model(r\"C:\\Users\\Chocky Naresh\\Desktop\\Computer Vision\\my_model.h5\")"
   ]
  },
  {
   "cell_type": "code",
   "execution_count": null,
   "metadata": {},
   "outputs": [],
   "source": [
    "while True :\n",
    "    for event in pygame.event.get():\n",
    "        if event.type == QUIT:\n",
    "            pygame.quit()\n",
    "            sys.exit()\n",
    "        if event.type == MOUSEMOTION and iswriting:\n",
    "            xcord,ycord = event.pos\n",
    "            pygame.draw.circle(DISPLAYSURFACE,WHITE,(xcord,ycord),4,0)\n",
    "            num_x_cor.append(xcord)\n",
    "            num_y_cor.append(ycord)\n",
    "        if event.type == MOUSEBUTTONDOWN:\n",
    "            iswriting = True\n",
    "        if event.type == MOUSEBUTTONUP:\n",
    "            iswriting = False\n",
    "            num_x_cor = sorted(num_x_cor)\n",
    "            num_y_cor = sorted(num_y_cor)\n",
    "            \n",
    "            rect_min_x, rect_max_x = max(num_x_cor[0]-BOUNDARYINC,0),min(WINDOWSIZEX,num_x_cor[-1]+BOUNDARYINC)\n",
    "            rect_min_Y, rect_max_Y = max(num_y_cor[0]-BOUNDARYINC,0),min(WINDOWSIZEY,num_y_cor[-1]+BOUNDARYINC)\n",
    "            \n",
    "            num_x_cor = []\n",
    "            num_y_cor = []\n",
    "            img_arr = np.array(pygame.PixelArray(DISPLAYSURFACE))\n",
    "            if IMAGESAVE:\n",
    "                cv2.imwrite(\"image.png\")\n",
    "                img_cnt+=1\n",
    "            if PREDICT:\n",
    "                image = cv2.resize(img_arr,(28,28))\n",
    "                image = np.pad(image,(10,10),'constant',constant_values = 0)\n",
    "                image = cv2.resize(image,(28,28))/WHITE_INT\n",
    "                label = str(LABELS[np.argmax(MODEL.predict(image.reshape(1,28,28,1)))]).title()\n",
    "                pygame.draw.rect(DISPLAYSURFACE, RED, (rect_min_x,rect_min_Y, rect_max_x-rect_min_Y,rect_max_Y-rect_min_Y),3)\n",
    "                \n",
    "            if event.type == KEYDOWN:\n",
    "                if event.unicode == \"N\":\n",
    "                    DISPLAYSURFACE.fill(BLACK)\n",
    "        pygame.display.update()\n",
    "                "
   ]
  },
  {
   "cell_type": "code",
   "execution_count": null,
   "metadata": {},
   "outputs": [],
   "source": []
  }
 ],
 "metadata": {
  "kernelspec": {
   "display_name": "Python 3",
   "language": "python",
   "name": "python3"
  },
  "language_info": {
   "codemirror_mode": {
    "name": "ipython",
    "version": 3
   },
   "file_extension": ".py",
   "mimetype": "text/x-python",
   "name": "python",
   "nbconvert_exporter": "python",
   "pygments_lexer": "ipython3",
   "version": "3.8.3"
  }
 },
 "nbformat": 4,
 "nbformat_minor": 4
}
